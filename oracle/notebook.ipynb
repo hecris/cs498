{
 "cells": [
  {
   "cell_type": "code",
   "execution_count": 66,
   "id": "f53c82b0-9c1e-4a34-be0b-e22b7351a080",
   "metadata": {},
   "outputs": [
    {
     "data": {
      "text/plain": [
       "'Done!'"
      ]
     },
     "execution_count": 66,
     "metadata": {},
     "output_type": "execute_result"
    }
   ],
   "source": [
    "import importlib\n",
    "import common_utils\n",
    "import oracle_utils\n",
    "import sort_algs\n",
    "\n",
    "importlib.reload(common_utils)\n",
    "importlib.reload(oracle_utils)\n",
    "importlib.reload(sort_algs)\n",
    "\n",
    "\"Done!\""
   ]
  },
  {
   "cell_type": "code",
   "execution_count": 73,
   "id": "5f790340-7e63-4b52-be99-a327478d70fe",
   "metadata": {},
   "outputs": [
    {
     "name": "stdout",
     "output_type": "stream",
     "text": [
      "[9, 6, 4, 5, 3, 8, 2, 0, 7, 1]\n",
      "21\n",
      "21\n",
      "21\n",
      "21\n"
     ]
    }
   ],
   "source": [
    "N = 10\n",
    "arr = common_utils.random_derangement(N)\n",
    "\n",
    "def blind_selection_sort_oracle(arr):\n",
    "    element_to_index_map = oracle_utils.get_after_elements(arr)\n",
    "    swaps = 0\n",
    "    while element_to_index_map:\n",
    "        smallest_element = min(element_to_index_map)\n",
    "        idx = element_to_index_map[smallest_element]\n",
    "        swaps += oracle_utils.bubble_down(arr, idx, element_to_index_map)\n",
    "        element_to_index_map.pop(smallest_element)\n",
    "        print(arr)\n",
    "    assert arr == sorted(arr)\n",
    "    return swaps\n",
    "\n",
    "print(arr)\n",
    "# print(blind_selection_sort_oracle(list(arr)))\n",
    "print(sort_algs.blind_selection_sort(list(arr)))\n",
    "print(sort_algs.blind_selection_sort_oracle(list(arr)))\n",
    "print(sort_algs.blind_selection_sort_reversed(list(arr)))\n",
    "print(sort_algs.blind_selection_sort_reversed_oracle(list(arr)))\n",
    "\n"
   ]
  },
  {
   "cell_type": "code",
   "execution_count": null,
   "id": "fdaedf1e-9dd3-40b5-8714-e8397f139ee8",
   "metadata": {},
   "outputs": [],
   "source": []
  },
  {
   "cell_type": "code",
   "execution_count": null,
   "id": "41674b2d-2f0b-41e7-bb65-86fb81d7179a",
   "metadata": {},
   "outputs": [],
   "source": []
  }
 ],
 "metadata": {
  "kernelspec": {
   "display_name": "Python 3 (ipykernel)",
   "language": "python",
   "name": "python3"
  },
  "language_info": {
   "codemirror_mode": {
    "name": "ipython",
    "version": 3
   },
   "file_extension": ".py",
   "mimetype": "text/x-python",
   "name": "python",
   "nbconvert_exporter": "python",
   "pygments_lexer": "ipython3",
   "version": "3.8.2"
  }
 },
 "nbformat": 4,
 "nbformat_minor": 5
}
